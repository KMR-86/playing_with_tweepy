{
 "cells": [
  {
   "cell_type": "code",
   "execution_count": 13,
   "metadata": {},
   "outputs": [
    {
     "name": "stdout",
     "output_type": "stream",
     "text": [
      "enter your tweet : Hi there. Could anyone give me an idea for a cool tweepy project? it Will be appreciated. Thanks in Advance.\n"
     ]
    }
   ],
   "source": [
    "import tweepy\n",
    "\n",
    "def authentication():\n",
    "    consumer_token=\"\"\n",
    "    consumer_secret=\"\"\n",
    "    access_token=\"\"\n",
    "    access_secret=\"\"\n",
    "\n",
    "    auth = tweepy.OAuthHandler(consumer_token, consumer_secret)\n",
    "    auth.set_access_token(access_token,access_secret)\n",
    "\n",
    "    api = tweepy.API(auth)\n",
    "    return api\n",
    "\n",
    "def search_tweet(search:str,max_num,api):\n",
    "    \n",
    "    public_tweet=api.search(search,count=max_num)\n",
    "    print(\"total tweets gleaned: \",len(public_tweet))\n",
    "    for tweet in public_tweet:\n",
    "        print(tweet.text)\n",
    "        print(\"\\n\")\n",
    "    \n",
    "def post_tweet(tweet,api):\n",
    "    api.update_status(tweet)\n",
    "api=authentication()\n",
    "#search_tweet(\"survivor season 40\",8,api)\n",
    "post_tweet(input(\"enter your tweet : \"),api)\n"
   ]
  },
  {
   "cell_type": "code",
   "execution_count": null,
   "metadata": {},
   "outputs": [],
   "source": []
  }
 ],
 "metadata": {
  "kernelspec": {
   "display_name": "Python 3",
   "language": "python",
   "name": "python3"
  },
  "language_info": {
   "codemirror_mode": {
    "name": "ipython",
    "version": 3
   },
   "file_extension": ".py",
   "mimetype": "text/x-python",
   "name": "python",
   "nbconvert_exporter": "python",
   "pygments_lexer": "ipython3",
   "version": "3.7.4"
  }
 },
 "nbformat": 4,
 "nbformat_minor": 2
}

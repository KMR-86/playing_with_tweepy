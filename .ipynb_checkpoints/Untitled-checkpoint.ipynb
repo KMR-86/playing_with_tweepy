{
 "cells": [
  {
   "cell_type": "code",
   "execution_count": 3,
   "metadata": {},
   "outputs": [
    {
     "name": "stdout",
     "output_type": "stream",
     "text": [
      "password\n",
      "\n",
      "password3\n"
     ]
    }
   ],
   "source": [
    "import tweepy\n",
    "\n",
    "def authentication():\n",
    "    f = open(\"password.txt\", \"r\")\n",
    "    fl=[]\n",
    "    for x in f:\n",
    "        fl.append(x)\n",
    "    \n",
    "    consumer_token=fl[0]\n",
    "    consumer_secret=fl[1]\n",
    "    access_token=fl[2]\n",
    "    access_secret=fl[3]\n",
    "    #auth = tweepy.OAuthHandler(consumer_token, consumer_secret)\n",
    "    #auth.set_access_token(access_token,access_secret)\n",
    "\n",
    "    #api = tweepy.API(auth)\n",
    "    #return api\n",
    "    return 0\n",
    "\n",
    "def search_tweet(search:str,max_num,api):\n",
    "    \n",
    "    public_tweet=api.search(search,count=max_num)\n",
    "    print(\"total tweets gleaned: \",len(public_tweet))\n",
    "    for tweet in public_tweet:\n",
    "        print(tweet.text)\n",
    "        print(\"\\n\")\n",
    "    \n",
    "def post_tweet(tweet,api):\n",
    "    api.update_status(tweet)\n",
    "api=authentication()\n",
    "#search_tweet(\"survivor season 40\",8,api)\n",
    "#post_tweet(input(\"enter your tweet : \"),api)\n"
   ]
  },
  {
   "cell_type": "code",
   "execution_count": null,
   "metadata": {},
   "outputs": [],
   "source": []
  }
 ],
 "metadata": {
  "kernelspec": {
   "display_name": "Python 3",
   "language": "python",
   "name": "python3"
  },
  "language_info": {
   "codemirror_mode": {
    "name": "ipython",
    "version": 3
   },
   "file_extension": ".py",
   "mimetype": "text/x-python",
   "name": "python",
   "nbconvert_exporter": "python",
   "pygments_lexer": "ipython3",
   "version": "3.7.4"
  }
 },
 "nbformat": 4,
 "nbformat_minor": 2
}
